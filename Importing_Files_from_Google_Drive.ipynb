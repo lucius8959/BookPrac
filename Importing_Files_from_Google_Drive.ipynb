{
  "nbformat": 4,
  "nbformat_minor": 0,
  "metadata": {
    "colab": {
      "name": "Importing Files from Google Drive.ipynb",
      "provenance": [],
      "collapsed_sections": [],
      "include_colab_link": true
    },
    "kernelspec": {
      "name": "python3",
      "display_name": "Python 3"
    }
  },
  "cells": [
    {
      "cell_type": "markdown",
      "metadata": {
        "id": "view-in-github",
        "colab_type": "text"
      },
      "source": [
        "<a href=\"https://colab.research.google.com/github/lucius8959/BookPrac/blob/master/Importing_Files_from_Google_Drive.ipynb\" target=\"_parent\"><img src=\"https://colab.research.google.com/assets/colab-badge.svg\" alt=\"Open In Colab\"/></a>"
      ]
    },
    {
      "cell_type": "markdown",
      "metadata": {
        "id": "UQSAUfIQmBtD",
        "colab_type": "text"
      },
      "source": [
        "# Importing Files from Google Drive"
      ]
    },
    {
      "cell_type": "code",
      "metadata": {
        "id": "ZcEbpIU_TCCe",
        "colab_type": "code",
        "colab": {
          "base_uri": "https://localhost:8080/",
          "height": 255
        },
        "outputId": "4efe8505-008b-4b14-c511-28144d745f49"
      },
      "source": [
        "!pip install PyDrive"
      ],
      "execution_count": 10,
      "outputs": [
        {
          "output_type": "stream",
          "text": [
            "Requirement already satisfied: PyDrive in /usr/local/lib/python3.6/dist-packages (1.3.1)\n",
            "Requirement already satisfied: PyYAML>=3.0 in /usr/local/lib/python3.6/dist-packages (from PyDrive) (3.13)\n",
            "Requirement already satisfied: google-api-python-client>=1.2 in /usr/local/lib/python3.6/dist-packages (from PyDrive) (1.7.12)\n",
            "Requirement already satisfied: oauth2client>=4.0.0 in /usr/local/lib/python3.6/dist-packages (from PyDrive) (4.1.3)\n",
            "Requirement already satisfied: uritemplate<4dev,>=3.0.0 in /usr/local/lib/python3.6/dist-packages (from google-api-python-client>=1.2->PyDrive) (3.0.1)\n",
            "Requirement already satisfied: google-auth>=1.4.1 in /usr/local/lib/python3.6/dist-packages (from google-api-python-client>=1.2->PyDrive) (1.7.2)\n",
            "Requirement already satisfied: google-auth-httplib2>=0.0.3 in /usr/local/lib/python3.6/dist-packages (from google-api-python-client>=1.2->PyDrive) (0.0.3)\n",
            "Requirement already satisfied: six<2dev,>=1.6.1 in /usr/local/lib/python3.6/dist-packages (from google-api-python-client>=1.2->PyDrive) (1.12.0)\n",
            "Requirement already satisfied: httplib2<1dev,>=0.17.0 in /usr/local/lib/python3.6/dist-packages (from google-api-python-client>=1.2->PyDrive) (0.17.2)\n",
            "Requirement already satisfied: pyasn1-modules>=0.0.5 in /usr/local/lib/python3.6/dist-packages (from oauth2client>=4.0.0->PyDrive) (0.2.8)\n",
            "Requirement already satisfied: pyasn1>=0.1.7 in /usr/local/lib/python3.6/dist-packages (from oauth2client>=4.0.0->PyDrive) (0.4.8)\n",
            "Requirement already satisfied: rsa>=3.1.4 in /usr/local/lib/python3.6/dist-packages (from oauth2client>=4.0.0->PyDrive) (4.0)\n",
            "Requirement already satisfied: setuptools>=40.3.0 in /usr/local/lib/python3.6/dist-packages (from google-auth>=1.4.1->google-api-python-client>=1.2->PyDrive) (46.1.3)\n",
            "Requirement already satisfied: cachetools<3.2,>=2.0.0 in /usr/local/lib/python3.6/dist-packages (from google-auth>=1.4.1->google-api-python-client>=1.2->PyDrive) (3.1.1)\n"
          ],
          "name": "stdout"
        }
      ]
    },
    {
      "cell_type": "code",
      "metadata": {
        "id": "eznS2GyMTNx4",
        "colab_type": "code",
        "colab": {}
      },
      "source": [
        "from pydrive.auth import GoogleAuth\n",
        "from pydrive.drive import GoogleDrive\n",
        "from google.colab import auth\n",
        "from oauth2client.client import GoogleCredentials"
      ],
      "execution_count": 0,
      "outputs": []
    },
    {
      "cell_type": "code",
      "metadata": {
        "id": "uptvD-I8TEPH",
        "colab_type": "code",
        "colab": {}
      },
      "source": [
        "# 1. Authenticate and create the PyDrive client.\n",
        "auth.authenticate_user()\n",
        "gauth = GoogleAuth()\n",
        "gauth.credentials = GoogleCredentials.get_application_default()\n",
        "drive = GoogleDrive(gauth)"
      ],
      "execution_count": 0,
      "outputs": []
    },
    {
      "cell_type": "code",
      "metadata": {
        "id": "0XkGn8sVTL_e",
        "colab_type": "code",
        "colab": {}
      },
      "source": [
        "#2. Get the file\n",
        "downloaded = drive.CreateFile({'id':\"1YJ6F_kjasGfdZc1UXGBtIyQaqqD-bf2a\"})   # replace the id with id of file you want to access\n",
        "downloaded.GetContentFile('testColabReadFile.csv')"
      ],
      "execution_count": 0,
      "outputs": []
    },
    {
      "cell_type": "code",
      "metadata": {
        "id": "8xFJZLMWTmwJ",
        "colab_type": "code",
        "colab": {
          "base_uri": "https://localhost:8080/",
          "height": 54
        },
        "outputId": "edce253d-e031-4197-8c91-5b83d45e9807"
      },
      "source": [
        "downloaded"
      ],
      "execution_count": 14,
      "outputs": [
        {
          "output_type": "execute_result",
          "data": {
            "text/plain": [
              "GoogleDriveFile({'id': '1YJ6F_kjasGfdZc1UXGBtIyQaqqD-bf2a', 'kind': 'drive#file', 'etag': '\"MTU4NzEzODU1MjI4NA\"', 'selfLink': 'https://www.googleapis.com/drive/v2/files/1YJ6F_kjasGfdZc1UXGBtIyQaqqD-bf2a', 'webContentLink': 'https://drive.google.com/uc?id=1YJ6F_kjasGfdZc1UXGBtIyQaqqD-bf2a&export=download', 'alternateLink': 'https://drive.google.com/file/d/1YJ6F_kjasGfdZc1UXGBtIyQaqqD-bf2a/view?usp=drivesdk', 'embedLink': 'https://drive.google.com/file/d/1YJ6F_kjasGfdZc1UXGBtIyQaqqD-bf2a/preview?usp=drivesdk', 'iconLink': 'https://drive-thirdparty.googleusercontent.com/16/type/text/plain', 'thumbnailLink': 'https://lh3.googleusercontent.com/AydZJeona2SQCl4ICoswJ4JGivbJAfqpcGiYTBXmRu8EXXcOLgQXQQkoBq8jPEneclA7pm_FCqI=s220', 'title': 'testColabReadFile.csv', 'mimeType': 'text/plain', 'labels': {'starred': False, 'hidden': False, 'trashed': False, 'restricted': False, 'viewed': True}, 'copyRequiresWriterPermission': False, 'createdDate': '2020-04-17T15:28:37.840Z', 'modifiedDate': '2020-04-17T15:49:12.284Z', 'modifiedByMeDate': '2020-04-17T15:49:12.284Z', 'lastViewedByMeDate': '2020-04-17T15:48:02.468Z', 'markedViewedByMeDate': '1970-01-01T00:00:00.000Z', 'version': '20', 'parents': [{'kind': 'drive#parentReference', 'id': '1tDt18Z2ZkQgtqJ_0RdQdvTQk3Ds-O_rS', 'selfLink': 'https://www.googleapis.com/drive/v2/files/1YJ6F_kjasGfdZc1UXGBtIyQaqqD-bf2a/parents/1tDt18Z2ZkQgtqJ_0RdQdvTQk3Ds-O_rS', 'parentLink': 'https://www.googleapis.com/drive/v2/files/1tDt18Z2ZkQgtqJ_0RdQdvTQk3Ds-O_rS', 'isRoot': False}], 'downloadUrl': 'https://www.googleapis.com/drive/v2/files/1YJ6F_kjasGfdZc1UXGBtIyQaqqD-bf2a?alt=media&source=downloadUrl', 'userPermission': {'kind': 'drive#permission', 'etag': '\"F8x8VoJ9hfg7_oA1x_AfI6JmM6o\"', 'id': 'me', 'selfLink': 'https://www.googleapis.com/drive/v2/files/1YJ6F_kjasGfdZc1UXGBtIyQaqqD-bf2a/permissions/me', 'role': 'owner', 'type': 'user'}, 'originalFilename': 'testColabReadFile.csv', 'fileExtension': 'csv', 'md5Checksum': '9726480bba1c89b5727dc855118bd1ef', 'fileSize': '36', 'quotaBytesUsed': '51', 'ownerNames': ['Lucifer Lin'], 'owners': [{'kind': 'drive#user', 'displayName': 'Lucifer Lin', 'picture': {'url': 'https://lh3.googleusercontent.com/a-/AOh14Gg8lNWzkPlz6WtHsX_A0gBMLKS1HsD5lfpUwLLo=s64'}, 'isAuthenticatedUser': True, 'permissionId': '07563024787808658021', 'emailAddress': 'lucifer.lucius8959@gmail.com'}], 'lastModifyingUserName': 'Lucifer Lin', 'lastModifyingUser': {'kind': 'drive#user', 'displayName': 'Lucifer Lin', 'picture': {'url': 'https://lh3.googleusercontent.com/a-/AOh14Gg8lNWzkPlz6WtHsX_A0gBMLKS1HsD5lfpUwLLo=s64'}, 'isAuthenticatedUser': True, 'permissionId': '07563024787808658021', 'emailAddress': 'lucifer.lucius8959@gmail.com'}, 'capabilities': {'canCopy': True, 'canEdit': True}, 'editable': True, 'copyable': True, 'writersCanShare': True, 'shared': True, 'explicitlyTrashed': False, 'appDataContents': False, 'headRevisionId': '0B1kjbGfIov0ROEtCbklxZlNvM2RYYXpML2ZvYkFkTHZyZjVrPQ', 'spaces': ['drive']})"
            ]
          },
          "metadata": {
            "tags": []
          },
          "execution_count": 14
        }
      ]
    },
    {
      "cell_type": "code",
      "metadata": {
        "id": "EyaCOSe2TqKG",
        "colab_type": "code",
        "colab": {}
      },
      "source": [
        "#3. Read file as panda dataframe\n",
        "import pandas as pd\n",
        "data = pd.read_csv('testColabReadFile.csv') "
      ],
      "execution_count": 0,
      "outputs": []
    },
    {
      "cell_type": "code",
      "metadata": {
        "id": "fpDSLFEbTr2r",
        "colab_type": "code",
        "colab": {
          "base_uri": "https://localhost:8080/",
          "height": 204
        },
        "outputId": "f70d1d95-e8ea-4ff1-c5da-78b952d8a115"
      },
      "source": [
        "data.head()"
      ],
      "execution_count": 16,
      "outputs": [
        {
          "output_type": "execute_result",
          "data": {
            "text/html": [
              "<div>\n",
              "<style scoped>\n",
              "    .dataframe tbody tr th:only-of-type {\n",
              "        vertical-align: middle;\n",
              "    }\n",
              "\n",
              "    .dataframe tbody tr th {\n",
              "        vertical-align: top;\n",
              "    }\n",
              "\n",
              "    .dataframe thead th {\n",
              "        text-align: right;\n",
              "    }\n",
              "</style>\n",
              "<table border=\"1\" class=\"dataframe\">\n",
              "  <thead>\n",
              "    <tr style=\"text-align: right;\">\n",
              "      <th></th>\n",
              "      <th>apple</th>\n",
              "    </tr>\n",
              "  </thead>\n",
              "  <tbody>\n",
              "    <tr>\n",
              "      <th>0</th>\n",
              "      <td>bus</td>\n",
              "    </tr>\n",
              "    <tr>\n",
              "      <th>1</th>\n",
              "      <td>cat</td>\n",
              "    </tr>\n",
              "    <tr>\n",
              "      <th>2</th>\n",
              "      <td>drive</td>\n",
              "    </tr>\n",
              "    <tr>\n",
              "      <th>3</th>\n",
              "      <td>egg</td>\n",
              "    </tr>\n",
              "    <tr>\n",
              "      <th>4</th>\n",
              "      <td>fox</td>\n",
              "    </tr>\n",
              "  </tbody>\n",
              "</table>\n",
              "</div>"
            ],
            "text/plain": [
              "   apple\n",
              "0    bus\n",
              "1    cat\n",
              "2  drive\n",
              "3    egg\n",
              "4    fox"
            ]
          },
          "metadata": {
            "tags": []
          },
          "execution_count": 16
        }
      ]
    }
  ]
}