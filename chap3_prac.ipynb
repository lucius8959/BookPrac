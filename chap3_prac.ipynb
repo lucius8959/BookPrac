{
  "nbformat": 4,
  "nbformat_minor": 0,
  "metadata": {
    "colab": {
      "name": "chap3_prac.ipynb",
      "provenance": [],
      "collapsed_sections": [],
      "authorship_tag": "ABX9TyPm0Fi4KK+VVZ6qS5ekP7do",
      "include_colab_link": true
    },
    "kernelspec": {
      "name": "python3",
      "display_name": "Python 3"
    }
  },
  "cells": [
    {
      "cell_type": "markdown",
      "metadata": {
        "id": "view-in-github",
        "colab_type": "text"
      },
      "source": [
        "<a href=\"https://colab.research.google.com/github/lucius8959/BookPrac/blob/master/chap3_prac.ipynb\" target=\"_parent\"><img src=\"https://colab.research.google.com/assets/colab-badge.svg\" alt=\"Open In Colab\"/></a>"
      ]
    },
    {
      "cell_type": "code",
      "metadata": {
        "id": "QgLAiyVPmxCf",
        "colab_type": "code",
        "colab": {
          "base_uri": "https://localhost:8080/",
          "height": 34
        },
        "outputId": "66a7ab92-2064-4e26-d0d7-c2d3d4e57216"
      },
      "source": [
        "def GetArea(width, height):\n",
        "  area = width*height\n",
        "  return area\n",
        "retl = GetArea(6,9)\n",
        "print(retl)"
      ],
      "execution_count": 3,
      "outputs": [
        {
          "output_type": "stream",
          "text": [
            "54\n"
          ],
          "name": "stdout"
        }
      ]
    },
    {
      "cell_type": "code",
      "metadata": {
        "id": "YchyaN-1nxmb",
        "colab_type": "code",
        "colab": {
          "base_uri": "https://localhost:8080/",
          "height": 51
        },
        "outputId": "1b6828f6-fc26-4430-a48c-b82e20cead6f"
      },
      "source": [
        "def ctof(c):\n",
        "  f = c * 1.8 + 32\n",
        "  return f\n",
        "\n",
        "inputc = float(input(\"請輸入攝氏溫度：\"))\n",
        "print(\"華氏溫度為：%5.1f度\" % ctof(inputc))\n"
      ],
      "execution_count": 5,
      "outputs": [
        {
          "output_type": "stream",
          "text": [
            "請輸入攝氏溫度：32\n",
            "華氏溫度為： 89.6度\n"
          ],
          "name": "stdout"
        }
      ]
    },
    {
      "cell_type": "markdown",
      "metadata": {
        "id": "tyGpd8EktHmD",
        "colab_type": "text"
      },
      "source": [
        "不確定數範例"
      ]
    },
    {
      "cell_type": "code",
      "metadata": {
        "id": "q_bfBIlzszH8",
        "colab_type": "code",
        "colab": {
          "base_uri": "https://localhost:8080/",
          "height": 51
        },
        "outputId": "72a26fcb-f099-4901-8a4e-0587a73ff9ff"
      },
      "source": [
        "def calsum(*params):\n",
        "  total = 0\n",
        "  for param in params:\n",
        "    total += param\n",
        "  return total\n",
        "\n",
        "print(\"不確定數範例：\")\n",
        "print(\"4個參數：calsum(4,5,67,42) = %d\" % calsum(4,5,67,42))"
      ],
      "execution_count": 6,
      "outputs": [
        {
          "output_type": "stream",
          "text": [
            "不確定數範例：\n",
            "4個參數：calsum(4,5,67,42) = 118\n"
          ],
          "name": "stdout"
        }
      ]
    },
    {
      "cell_type": "code",
      "metadata": {
        "id": "Z5in1mQWvApT",
        "colab_type": "code",
        "colab": {
          "base_uri": "https://localhost:8080/",
          "height": 34
        },
        "outputId": "5f418d4f-3eac-416b-9689-76acb3953bed"
      },
      "source": [
        "import os \n",
        "file = \"myFile.txt\"\n",
        "if os.path.exists(file):\n",
        "  os.remove(file)\n",
        "else:\n",
        "  print(file + \"檔案未建立\")"
      ],
      "execution_count": 7,
      "outputs": [
        {
          "output_type": "stream",
          "text": [
            "myFile.txt檔案未建立\n"
          ],
          "name": "stdout"
        }
      ]
    }
  ]
}