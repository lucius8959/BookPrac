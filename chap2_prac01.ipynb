{
  "nbformat": 4,
  "nbformat_minor": 0,
  "metadata": {
    "colab": {
      "name": "chap2_prac01.ipynb",
      "provenance": [],
      "collapsed_sections": [],
      "authorship_tag": "ABX9TyPg8/vhixD8OUwZSn3cJDsM",
      "include_colab_link": true
    },
    "kernelspec": {
      "name": "python3",
      "display_name": "Python 3"
    }
  },
  "cells": [
    {
      "cell_type": "markdown",
      "metadata": {
        "id": "view-in-github",
        "colab_type": "text"
      },
      "source": [
        "<a href=\"https://colab.research.google.com/github/lucius8959/BookPrac/blob/master/chap2_prac01.ipynb\" target=\"_parent\"><img src=\"https://colab.research.google.com/assets/colab-badge.svg\" alt=\"Open In Colab\"/></a>"
      ]
    },
    {
      "cell_type": "markdown",
      "metadata": {
        "id": "ZiXMsmXc6geF",
        "colab_type": "text"
      },
      "source": [
        "變數名稱 = 變數值"
      ]
    },
    {
      "cell_type": "code",
      "metadata": {
        "id": "CGRWO9Ie6Mju",
        "colab_type": "code",
        "outputId": "440b5204-7e93-4265-ab5d-10513818e12e",
        "colab": {
          "base_uri": "https://localhost:8080/",
          "height": 51
        }
      },
      "source": [
        "score = 80\n",
        "print(\"score = \" + str(score))\n",
        "print(\"score=\", score)"
      ],
      "execution_count": 17,
      "outputs": [
        {
          "output_type": "stream",
          "text": [
            "score = 80\n",
            "score= 80\n"
          ],
          "name": "stdout"
        }
      ]
    },
    {
      "cell_type": "code",
      "metadata": {
        "id": "gbCUEkG36lum",
        "colab_type": "code",
        "outputId": "d1b3bc7f-7aaa-4db4-bbd1-88c987b9ec8a",
        "colab": {
          "base_uri": "https://localhost:8080/",
          "height": 34
        }
      },
      "source": [
        "fruit = \"香蕉\" #fruit的資料型態為字串\n",
        "print(\"fruit = \" + fruit)"
      ],
      "execution_count": 18,
      "outputs": [
        {
          "output_type": "stream",
          "text": [
            "fruit = 香蕉\n"
          ],
          "name": "stdout"
        }
      ]
    },
    {
      "cell_type": "markdown",
      "metadata": {
        "id": "b6povrff8aFV",
        "colab_type": "text"
      },
      "source": [
        "print(項目 % （參數列))"
      ]
    },
    {
      "cell_type": "code",
      "metadata": {
        "id": "d7yIEbPq6yl2",
        "colab_type": "code",
        "outputId": "adf47f87-bbf2-4fc2-9304-d04983c6c82c",
        "colab": {
          "base_uri": "https://localhost:8080/",
          "height": 34
        }
      },
      "source": [
        "name = \"林小明\"\n",
        "score = 80\n",
        "print(\"%s的成績為%d\" % (name, score))"
      ],
      "execution_count": 19,
      "outputs": [
        {
          "output_type": "stream",
          "text": [
            "林小明的成績為80\n"
          ],
          "name": "stdout"
        }
      ]
    },
    {
      "cell_type": "markdown",
      "metadata": {
        "id": "pTF6DChg9MDk",
        "colab_type": "text"
      },
      "source": [
        "%5d：固定列印5個字元，若少於5位數\n",
        "%5s：固定列印5個字元"
      ]
    },
    {
      "cell_type": "code",
      "metadata": {
        "id": "OZb3qGYi852s",
        "colab_type": "code",
        "outputId": "9617b2b1-8e71-44ef-8e99-e82864c514c3",
        "colab": {
          "base_uri": "https://localhost:8080/",
          "height": 68
        }
      },
      "source": [
        "price = 23.8\n",
        "print(\"價格為%5d\" % price)\n",
        "print(\"價格為%5s\" % price)\n",
        "print(\"價格為%8.2f\" % price)"
      ],
      "execution_count": 20,
      "outputs": [
        {
          "output_type": "stream",
          "text": [
            "價格為   23\n",
            "價格為 23.8\n",
            "價格為   23.80\n"
          ],
          "name": "stdout"
        }
      ]
    },
    {
      "cell_type": "code",
      "metadata": {
        "id": "ergzD0gxDt0T",
        "colab_type": "code",
        "outputId": "4ed7e906-0caf-4a0d-f46f-a1232f5e466b",
        "colab": {
          "base_uri": "https://localhost:8080/",
          "height": 34
        }
      },
      "source": [
        "print(\"{}的成績為{}\".format(name,score))"
      ],
      "execution_count": 21,
      "outputs": [
        {
          "output_type": "stream",
          "text": [
            "林小明的成績為80\n"
          ],
          "name": "stdout"
        }
      ]
    },
    {
      "cell_type": "code",
      "metadata": {
        "id": "HN0zsEddEVIS",
        "colab_type": "code",
        "outputId": "9925d48f-9912-4234-e54a-8474e8aa68db",
        "colab": {
          "base_uri": "https://localhost:8080/",
          "height": 51
        }
      },
      "source": [
        "score = input(\"請輸入數學成績\")\n",
        "print(\"數學成績為{}\".format(score))"
      ],
      "execution_count": 22,
      "outputs": [
        {
          "output_type": "stream",
          "text": [
            "請輸入數學成績100\n",
            "數學成績為100\n"
          ],
          "name": "stdout"
        }
      ]
    },
    {
      "cell_type": "markdown",
      "metadata": {
        "id": "Q8TU5soJMQg8",
        "colab_type": "text"
      },
      "source": [
        "串列名稱 = [ 元素1, 元素2, …… ]\n",
        "元素型態可以相同，也可以不同\n",
        "例如： list1 = [ 1, \"香蕉\", True ]\n",
        "\n",
        "取得元素值的索引值由0開始計數，索引值不得超過串列範圍\n",
        "亦可使用二維串列\n",
        "[ [元素1, 元素2], [元素3, 元素4], …… ]\n",
        "列印時同二維陣列"
      ]
    },
    {
      "cell_type": "code",
      "metadata": {
        "id": "B4C4O0AvMPgY",
        "colab_type": "code",
        "outputId": "b1ba5f21-c8c4-4243-9a6b-edc72a2c0828",
        "colab": {
          "base_uri": "https://localhost:8080/",
          "height": 34
        }
      },
      "source": [
        "score = [[\"國語\", 90], [\"數學\", 80], [\"英文\", 70]]\n",
        "print(\"{}的成績為{}\".format(score[0][0],score[0][1]))"
      ],
      "execution_count": 23,
      "outputs": [
        {
          "output_type": "stream",
          "text": [
            "國語的成績為90\n"
          ],
          "name": "stdout"
        }
      ]
    },
    {
      "cell_type": "markdown",
      "metadata": {
        "id": "KUv5ePf1PxNk",
        "colab_type": "text"
      },
      "source": [
        "range(start, stop[, step])\n"
      ]
    },
    {
      "cell_type": "code",
      "metadata": {
        "id": "9J-rbZP4PyfE",
        "colab_type": "code",
        "outputId": "997d6ff0-2890-4f2e-91ee-b431961f1f32",
        "colab": {
          "base_uri": "https://localhost:8080/",
          "height": 119
        }
      },
      "source": [
        "list1 = range(5)\n",
        "for s in list1:\n",
        "  print(s, end=\",\")\n",
        "print(\"\\n\")\n",
        "list2 = range(3,8)\n",
        "for s in list2:\n",
        "  print(s, end=\",\")\n",
        "print(\"\\n\")\n",
        "list3 = range(-20, -2, 2)\n",
        "for s in list3:\n",
        "  print(s, end=\",\")\n",
        "print(\"\\n\")"
      ],
      "execution_count": 24,
      "outputs": [
        {
          "output_type": "stream",
          "text": [
            "0,1,2,3,4,\n",
            "\n",
            "3,4,5,6,7,\n",
            "\n",
            "-20,-18,-16,-14,-12,-10,-8,-6,-4,\n",
            "\n"
          ],
          "name": "stdout"
        }
      ]
    },
    {
      "cell_type": "code",
      "metadata": {
        "id": "TptAHOcpR-zy",
        "colab_type": "code",
        "outputId": "ff247648-c399-453f-f9f3-bb259f952846",
        "colab": {
          "base_uri": "https://localhost:8080/",
          "height": 51
        }
      },
      "source": [
        "sum = 0\n",
        "n = int(input(\"請輸入正整數:\"))\n",
        "for i in range(1, n+1):\n",
        "  sum += i\n",
        "print(\"1到%d的整數和為%d\"%(n, sum))"
      ],
      "execution_count": 25,
      "outputs": [
        {
          "output_type": "stream",
          "text": [
            "請輸入正整數:90\n",
            "1到90的整數和為4095\n"
          ],
          "name": "stdout"
        }
      ]
    },
    {
      "cell_type": "code",
      "metadata": {
        "id": "Zn3_8xWsgzEa",
        "colab_type": "code",
        "outputId": "6c824eb3-7078-48d1-d52a-68143380d751",
        "colab": {
          "base_uri": "https://localhost:8080/",
          "height": 323
        }
      },
      "source": [
        "n = 0\n",
        "for i in range(1,10):\n",
        "  for j in range(1,10):\n",
        "    print(\"%d * %d = %2d | \"%(i, j, i*j), end=\" \")\n",
        "  print(\"\\n\")"
      ],
      "execution_count": 26,
      "outputs": [
        {
          "output_type": "stream",
          "text": [
            "1 * 1 =  1 |  1 * 2 =  2 |  1 * 3 =  3 |  1 * 4 =  4 |  1 * 5 =  5 |  1 * 6 =  6 |  1 * 7 =  7 |  1 * 8 =  8 |  1 * 9 =  9 |  \n",
            "\n",
            "2 * 1 =  2 |  2 * 2 =  4 |  2 * 3 =  6 |  2 * 4 =  8 |  2 * 5 = 10 |  2 * 6 = 12 |  2 * 7 = 14 |  2 * 8 = 16 |  2 * 9 = 18 |  \n",
            "\n",
            "3 * 1 =  3 |  3 * 2 =  6 |  3 * 3 =  9 |  3 * 4 = 12 |  3 * 5 = 15 |  3 * 6 = 18 |  3 * 7 = 21 |  3 * 8 = 24 |  3 * 9 = 27 |  \n",
            "\n",
            "4 * 1 =  4 |  4 * 2 =  8 |  4 * 3 = 12 |  4 * 4 = 16 |  4 * 5 = 20 |  4 * 6 = 24 |  4 * 7 = 28 |  4 * 8 = 32 |  4 * 9 = 36 |  \n",
            "\n",
            "5 * 1 =  5 |  5 * 2 = 10 |  5 * 3 = 15 |  5 * 4 = 20 |  5 * 5 = 25 |  5 * 6 = 30 |  5 * 7 = 35 |  5 * 8 = 40 |  5 * 9 = 45 |  \n",
            "\n",
            "6 * 1 =  6 |  6 * 2 = 12 |  6 * 3 = 18 |  6 * 4 = 24 |  6 * 5 = 30 |  6 * 6 = 36 |  6 * 7 = 42 |  6 * 8 = 48 |  6 * 9 = 54 |  \n",
            "\n",
            "7 * 1 =  7 |  7 * 2 = 14 |  7 * 3 = 21 |  7 * 4 = 28 |  7 * 5 = 35 |  7 * 6 = 42 |  7 * 7 = 49 |  7 * 8 = 56 |  7 * 9 = 63 |  \n",
            "\n",
            "8 * 1 =  8 |  8 * 2 = 16 |  8 * 3 = 24 |  8 * 4 = 32 |  8 * 5 = 40 |  8 * 6 = 48 |  8 * 7 = 56 |  8 * 8 = 64 |  8 * 9 = 72 |  \n",
            "\n",
            "9 * 1 =  9 |  9 * 2 = 18 |  9 * 3 = 27 |  9 * 4 = 36 |  9 * 5 = 45 |  9 * 6 = 54 |  9 * 7 = 63 |  9 * 8 = 72 |  9 * 9 = 81 |  \n",
            "\n"
          ],
          "name": "stdout"
        }
      ]
    },
    {
      "cell_type": "code",
      "metadata": {
        "id": "dRiSvk-Sh8gp",
        "colab_type": "code",
        "outputId": "f7f41c94-3fa5-478b-bc9f-9e7761017cbe",
        "colab": {
          "base_uri": "https://localhost:8080/",
          "height": 68
        }
      },
      "source": [
        "for i in range(1, 11):\n",
        "  if(i==6):\n",
        "    break\n",
        "  print(i, end=\",\")\n",
        "\n",
        "print(\"\\n---------------------\")\n",
        "for i in range(1, 11):\n",
        "  if(i==6):\n",
        "    continue\n",
        "  print(i, end=\",\")"
      ],
      "execution_count": 27,
      "outputs": [
        {
          "output_type": "stream",
          "text": [
            "1,2,3,4,5,\n",
            "---------------------\n",
            "1,2,3,4,5,7,8,9,10,"
          ],
          "name": "stdout"
        }
      ]
    },
    {
      "cell_type": "code",
      "metadata": {
        "id": "pPvCOTUCieCq",
        "colab_type": "code",
        "outputId": "12ba2c81-7716-4dd7-a605-3e18c56e1f88",
        "colab": {
          "base_uri": "https://localhost:8080/",
          "height": 51
        }
      },
      "source": [
        "n = int(input(\"請輸入大於1的整數：\"))\n",
        "if(n==2):\n",
        "  print(\"2是質數\")\n",
        "else:\n",
        "  for i in range(2, n):\n",
        "    if(n % i == 0):\n",
        "      print(\"%d不是質數！\" % n)\n",
        "      break\n",
        "  else:\n",
        "    print(\"%d是質數\" % n)"
      ],
      "execution_count": 28,
      "outputs": [
        {
          "output_type": "stream",
          "text": [
            "請輸入大於1的整數：50\n",
            "50不是質數！\n"
          ],
          "name": "stdout"
        }
      ]
    },
    {
      "cell_type": "code",
      "metadata": {
        "id": "66cdWBqzkT-P",
        "colab_type": "code",
        "outputId": "744fe2b6-6a67-45bd-8052-01eb3fbec22e",
        "colab": {
          "base_uri": "https://localhost:8080/",
          "height": 34
        }
      },
      "source": [
        "total = n = 0\n",
        "while(n < 10):\n",
        "  n += 1\n",
        "  total += n\n",
        "print(total)"
      ],
      "execution_count": 29,
      "outputs": [
        {
          "output_type": "stream",
          "text": [
            "55\n"
          ],
          "name": "stdout"
        }
      ]
    },
    {
      "cell_type": "code",
      "metadata": {
        "id": "HKrAnLHA9k0X",
        "colab_type": "code",
        "colab": {
          "base_uri": "https://localhost:8080/",
          "height": 272
        },
        "outputId": "97f5bf7c-c7cd-431c-afeb-86798f7f7f7d"
      },
      "source": [
        "list1 = [1,2,3,4,5,6]\n",
        "list2 = list1 * 2\n",
        "print(list2)\n",
        "\n",
        "list2 = list1[1:4]\n",
        "print(list2)\n",
        "\n",
        "list2 = list1[1:4:2]\n",
        "print(list2)\n",
        "\n",
        "del list1[1:4]\n",
        "print(list1)\n",
        "\n",
        "list1.insert(1,2)\n",
        "print(list1)\n",
        "\n",
        "list1.extend([3,4])\n",
        "print(list1)\n",
        "\n",
        "list1.append(7)\n",
        "print(list1)\n",
        "\n",
        "list1.reverse()\n",
        "print(list1)\n",
        "\n",
        "list1.sort()\n",
        "print(list1)\n",
        "\n",
        "print(len(list1))\n",
        "print(min(list1))\n",
        "print(max(list1))\n",
        "print(list1.index(5))\n",
        "print(list1.count(4))\n",
        "\n",
        "list1.remove(5)\n",
        "print(list1)\n",
        "\n"
      ],
      "execution_count": 36,
      "outputs": [
        {
          "output_type": "stream",
          "text": [
            "[1, 2, 3, 4, 5, 6, 1, 2, 3, 4, 5, 6]\n",
            "[2, 3, 4]\n",
            "[2, 4]\n",
            "[1, 5, 6]\n",
            "[1, 2, 5, 6]\n",
            "[1, 2, 5, 6, 3, 4]\n",
            "[1, 2, 5, 6, 3, 4, 7]\n",
            "[7, 4, 3, 6, 5, 2, 1]\n",
            "[1, 2, 3, 4, 5, 6, 7]\n",
            "7\n",
            "1\n",
            "7\n",
            "4\n",
            "1\n",
            "[1, 2, 3, 4, 6, 7]\n"
          ],
          "name": "stdout"
        }
      ]
    },
    {
      "cell_type": "code",
      "metadata": {
        "id": "gNIauipu9-pn",
        "colab_type": "code",
        "colab": {}
      },
      "source": [
        "\n"
      ],
      "execution_count": 0,
      "outputs": []
    }
  ]
}