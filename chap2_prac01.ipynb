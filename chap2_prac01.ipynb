{
  "nbformat": 4,
  "nbformat_minor": 0,
  "metadata": {
    "colab": {
      "name": "chap2_prac01.ipynb",
      "provenance": [],
      "collapsed_sections": [],
      "authorship_tag": "ABX9TyPXy+HlwypOcwEqVK6axtO4",
      "include_colab_link": true
    },
    "kernelspec": {
      "name": "python3",
      "display_name": "Python 3"
    }
  },
  "cells": [
    {
      "cell_type": "markdown",
      "metadata": {
        "id": "view-in-github",
        "colab_type": "text"
      },
      "source": [
        "<a href=\"https://colab.research.google.com/github/lucius8959/BookPrac/blob/master/chap2_prac01.ipynb\" target=\"_parent\"><img src=\"https://colab.research.google.com/assets/colab-badge.svg\" alt=\"Open In Colab\"/></a>"
      ]
    },
    {
      "cell_type": "markdown",
      "metadata": {
        "id": "ZiXMsmXc6geF",
        "colab_type": "text"
      },
      "source": [
        "變數名稱 = 變數值"
      ]
    },
    {
      "cell_type": "code",
      "metadata": {
        "id": "CGRWO9Ie6Mju",
        "colab_type": "code",
        "colab": {
          "base_uri": "https://localhost:8080/",
          "height": 51
        },
        "outputId": "102457f1-7d88-4c82-c830-110160cbfa89"
      },
      "source": [
        "score = 80\n",
        "print(\"score = \" + str(score))\n",
        "print(\"score=\", score)"
      ],
      "execution_count": 12,
      "outputs": [
        {
          "output_type": "stream",
          "text": [
            "score = 80\n",
            "score= 80\n"
          ],
          "name": "stdout"
        }
      ]
    },
    {
      "cell_type": "code",
      "metadata": {
        "id": "gbCUEkG36lum",
        "colab_type": "code",
        "colab": {
          "base_uri": "https://localhost:8080/",
          "height": 34
        },
        "outputId": "88ab17e0-ee14-4b95-a1e7-625691bf4ea1"
      },
      "source": [
        "fruit = \"香蕉\" #fruit的資料型態為字串\n",
        "print(\"fruit = \" + fruit)"
      ],
      "execution_count": 13,
      "outputs": [
        {
          "output_type": "stream",
          "text": [
            "fruit = 香蕉\n"
          ],
          "name": "stdout"
        }
      ]
    },
    {
      "cell_type": "markdown",
      "metadata": {
        "id": "b6povrff8aFV",
        "colab_type": "text"
      },
      "source": [
        "print(項目 % （參數列))"
      ]
    },
    {
      "cell_type": "code",
      "metadata": {
        "id": "d7yIEbPq6yl2",
        "colab_type": "code",
        "colab": {
          "base_uri": "https://localhost:8080/",
          "height": 34
        },
        "outputId": "b4f4c2e7-fa7b-407c-b77c-76eb25e2eabf"
      },
      "source": [
        "name = \"林小明\"\n",
        "score = 80\n",
        "print(\"%s的成績為%d\" % (name, score))"
      ],
      "execution_count": 16,
      "outputs": [
        {
          "output_type": "stream",
          "text": [
            "林小明的成績為80\n"
          ],
          "name": "stdout"
        }
      ]
    },
    {
      "cell_type": "markdown",
      "metadata": {
        "id": "pTF6DChg9MDk",
        "colab_type": "text"
      },
      "source": [
        "%5d：固定列印5個字元，若少於5位數\n",
        "%5s：固定列印5個字元"
      ]
    },
    {
      "cell_type": "code",
      "metadata": {
        "id": "OZb3qGYi852s",
        "colab_type": "code",
        "colab": {
          "base_uri": "https://localhost:8080/",
          "height": 68
        },
        "outputId": "e7259d12-2f3c-408a-8543-4c1e13eaa8d1"
      },
      "source": [
        "price = 23.8\n",
        "print(\"價格為%5d\" % price)\n",
        "print(\"價格為%5s\" % price)\n",
        "print(\"價格為%8.2f\" % price)"
      ],
      "execution_count": 17,
      "outputs": [
        {
          "output_type": "stream",
          "text": [
            "價格為   23\n",
            "價格為 23.8\n",
            "價格為   23.80\n"
          ],
          "name": "stdout"
        }
      ]
    },
    {
      "cell_type": "code",
      "metadata": {
        "id": "ergzD0gxDt0T",
        "colab_type": "code",
        "colab": {
          "base_uri": "https://localhost:8080/",
          "height": 34
        },
        "outputId": "40586b13-7899-4b8d-df72-fa2c25468736"
      },
      "source": [
        "print(\"{}的成績為{}\".format(name,score))"
      ],
      "execution_count": 18,
      "outputs": [
        {
          "output_type": "stream",
          "text": [
            "林小明的成績為80\n"
          ],
          "name": "stdout"
        }
      ]
    },
    {
      "cell_type": "code",
      "metadata": {
        "id": "HN0zsEddEVIS",
        "colab_type": "code",
        "colab": {
          "base_uri": "https://localhost:8080/",
          "height": 51
        },
        "outputId": "25fd293f-eeb5-4431-fcca-f11eea896a87"
      },
      "source": [
        "score = input(\"請輸入數學成績\")\n",
        "print(\"數學成績為{}\".format(score))"
      ],
      "execution_count": 20,
      "outputs": [
        {
          "output_type": "stream",
          "text": [
            "請輸入數學成績100\n",
            "數學成績為100\n"
          ],
          "name": "stdout"
        }
      ]
    },
    {
      "cell_type": "markdown",
      "metadata": {
        "id": "Q8TU5soJMQg8",
        "colab_type": "text"
      },
      "source": [
        "串列名稱 = [ 元素1, 元素2, …… ]\n",
        "元素型態可以相同，也可以不同\n",
        "例如： list1 = [ 1, \"香蕉\", True ]\n",
        "\n",
        "取得元素值的索引值由0開始計數，索引值不得超過串列範圍\n",
        "亦可使用二維串列\n",
        "[ [元素1, 元素2], [元素3, 元素4], …… ]\n",
        "列印時同二維陣列"
      ]
    },
    {
      "cell_type": "code",
      "metadata": {
        "id": "B4C4O0AvMPgY",
        "colab_type": "code",
        "colab": {
          "base_uri": "https://localhost:8080/",
          "height": 34
        },
        "outputId": "47c9bd9c-514b-4d2a-f5cd-3663fafef897"
      },
      "source": [
        "score = [[\"國語\", 90], [\"數學\", 80], [\"英文\", 70]]\n",
        "print(\"{}的成績為{}\".format(score[0][0],score[0][1]))"
      ],
      "execution_count": 4,
      "outputs": [
        {
          "output_type": "stream",
          "text": [
            "國語的成績為90\n"
          ],
          "name": "stdout"
        }
      ]
    },
    {
      "cell_type": "markdown",
      "metadata": {
        "id": "KUv5ePf1PxNk",
        "colab_type": "text"
      },
      "source": [
        "range(start, stop[, step])\n"
      ]
    },
    {
      "cell_type": "code",
      "metadata": {
        "id": "9J-rbZP4PyfE",
        "colab_type": "code",
        "colab": {
          "base_uri": "https://localhost:8080/",
          "height": 119
        },
        "outputId": "8a5cfe54-bfd8-430c-e814-8356e2b1d9e5"
      },
      "source": [
        "list1 = range(5)\n",
        "for s in list1:\n",
        "  print(s, end=\",\")\n",
        "print(\"\\n\")\n",
        "list2 = range(3,8)\n",
        "for s in list2:\n",
        "  print(s, end=\",\")\n",
        "print(\"\\n\")\n",
        "list3 = range(-20, -2, 2)\n",
        "for s in list3:\n",
        "  print(s, end=\",\")\n",
        "print(\"\\n\")"
      ],
      "execution_count": 9,
      "outputs": [
        {
          "output_type": "stream",
          "text": [
            "0,1,2,3,4,\n",
            "\n",
            "3,4,5,6,7,\n",
            "\n",
            "-20,-18,-16,-14,-12,-10,-8,-6,-4,\n",
            "\n"
          ],
          "name": "stdout"
        }
      ]
    },
    {
      "cell_type": "code",
      "metadata": {
        "id": "TptAHOcpR-zy",
        "colab_type": "code",
        "colab": {
          "base_uri": "https://localhost:8080/",
          "height": 51
        },
        "outputId": "53177d8a-f735-4d84-8f41-9dca9813bfc9"
      },
      "source": [
        "sum = 0\n",
        "n = int(input(\"請輸入正整數:\"))\n",
        "for i in range(1, n+1):\n",
        "  sum += i\n",
        "print(\"1到%d的整數和為%d\"%(n, sum))"
      ],
      "execution_count": 10,
      "outputs": [
        {
          "output_type": "stream",
          "text": [
            "請輸入正整數:20\n",
            "1到20的整數和為210\n"
          ],
          "name": "stdout"
        }
      ]
    },
    {
      "cell_type": "code",
      "metadata": {
        "id": "Zn3_8xWsgzEa",
        "colab_type": "code",
        "colab": {
          "base_uri": "https://localhost:8080/",
          "height": 323
        },
        "outputId": "ee7ecca0-0be9-44cd-d527-7f51aa9affcf"
      },
      "source": [
        "n = 0\n",
        "for i in range(1,10):\n",
        "  for j in range(1,10):\n",
        "    print(\"%d * %d = %2d | \"%(i, j, i*j), end=\" \")\n",
        "  print(\"\\n\")"
      ],
      "execution_count": 17,
      "outputs": [
        {
          "output_type": "stream",
          "text": [
            "1 * 1 =  1 |  1 * 2 =  2 |  1 * 3 =  3 |  1 * 4 =  4 |  1 * 5 =  5 |  1 * 6 =  6 |  1 * 7 =  7 |  1 * 8 =  8 |  1 * 9 =  9 |  \n",
            "\n",
            "2 * 1 =  2 |  2 * 2 =  4 |  2 * 3 =  6 |  2 * 4 =  8 |  2 * 5 = 10 |  2 * 6 = 12 |  2 * 7 = 14 |  2 * 8 = 16 |  2 * 9 = 18 |  \n",
            "\n",
            "3 * 1 =  3 |  3 * 2 =  6 |  3 * 3 =  9 |  3 * 4 = 12 |  3 * 5 = 15 |  3 * 6 = 18 |  3 * 7 = 21 |  3 * 8 = 24 |  3 * 9 = 27 |  \n",
            "\n",
            "4 * 1 =  4 |  4 * 2 =  8 |  4 * 3 = 12 |  4 * 4 = 16 |  4 * 5 = 20 |  4 * 6 = 24 |  4 * 7 = 28 |  4 * 8 = 32 |  4 * 9 = 36 |  \n",
            "\n",
            "5 * 1 =  5 |  5 * 2 = 10 |  5 * 3 = 15 |  5 * 4 = 20 |  5 * 5 = 25 |  5 * 6 = 30 |  5 * 7 = 35 |  5 * 8 = 40 |  5 * 9 = 45 |  \n",
            "\n",
            "6 * 1 =  6 |  6 * 2 = 12 |  6 * 3 = 18 |  6 * 4 = 24 |  6 * 5 = 30 |  6 * 6 = 36 |  6 * 7 = 42 |  6 * 8 = 48 |  6 * 9 = 54 |  \n",
            "\n",
            "7 * 1 =  7 |  7 * 2 = 14 |  7 * 3 = 21 |  7 * 4 = 28 |  7 * 5 = 35 |  7 * 6 = 42 |  7 * 7 = 49 |  7 * 8 = 56 |  7 * 9 = 63 |  \n",
            "\n",
            "8 * 1 =  8 |  8 * 2 = 16 |  8 * 3 = 24 |  8 * 4 = 32 |  8 * 5 = 40 |  8 * 6 = 48 |  8 * 7 = 56 |  8 * 8 = 64 |  8 * 9 = 72 |  \n",
            "\n",
            "9 * 1 =  9 |  9 * 2 = 18 |  9 * 3 = 27 |  9 * 4 = 36 |  9 * 5 = 45 |  9 * 6 = 54 |  9 * 7 = 63 |  9 * 8 = 72 |  9 * 9 = 81 |  \n",
            "\n"
          ],
          "name": "stdout"
        }
      ]
    },
    {
      "cell_type": "code",
      "metadata": {
        "id": "dRiSvk-Sh8gp",
        "colab_type": "code",
        "colab": {
          "base_uri": "https://localhost:8080/",
          "height": 68
        },
        "outputId": "c48e95ed-d565-4ceb-b23c-90c81ef7c72f"
      },
      "source": [
        "for i in range(1, 11):\n",
        "  if(i==6):\n",
        "    break\n",
        "  print(i, end=\",\")\n",
        "\n",
        "print(\"\\n---------------------\")\n",
        "for i in range(1, 11):\n",
        "  if(i==6):\n",
        "    continue\n",
        "  print(i, end=\",\")"
      ],
      "execution_count": 22,
      "outputs": [
        {
          "output_type": "stream",
          "text": [
            "1,2,3,4,5,\n",
            "---------------------\n",
            "1,2,3,4,5,7,8,9,10,"
          ],
          "name": "stdout"
        }
      ]
    },
    {
      "cell_type": "code",
      "metadata": {
        "id": "pPvCOTUCieCq",
        "colab_type": "code",
        "colab": {
          "base_uri": "https://localhost:8080/",
          "height": 51
        },
        "outputId": "19284ff1-7957-4430-e851-991a4dca20b7"
      },
      "source": [
        "n = int(input(\"請輸入大於1的整數：\"))\n",
        "if(n==2):\n",
        "  print(\"2是質數\")\n",
        "else:\n",
        "  for i in range(2, n):\n",
        "    if(n % i == 0):\n",
        "      print(\"%d不是質數！\" % n)\n",
        "      break\n",
        "  else:\n",
        "    print(\"%d是質數\" % n)"
      ],
      "execution_count": 26,
      "outputs": [
        {
          "output_type": "stream",
          "text": [
            "請輸入大於1的整數：27\n",
            "27不是質數！\n"
          ],
          "name": "stdout"
        }
      ]
    },
    {
      "cell_type": "code",
      "metadata": {
        "id": "66cdWBqzkT-P",
        "colab_type": "code",
        "colab": {
          "base_uri": "https://localhost:8080/",
          "height": 34
        },
        "outputId": "ac168613-c5ea-44a2-877e-c4a8055178ce"
      },
      "source": [
        "total = n = 0\n",
        "while(n < 10):\n",
        "  n += 1\n",
        "  total += n\n",
        "print(total)"
      ],
      "execution_count": 27,
      "outputs": [
        {
          "output_type": "stream",
          "text": [
            "55\n"
          ],
          "name": "stdout"
        }
      ]
    }
  ]
}