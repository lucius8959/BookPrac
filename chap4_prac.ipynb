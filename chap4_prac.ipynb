{
  "nbformat": 4,
  "nbformat_minor": 0,
  "metadata": {
    "colab": {
      "name": "chap3_prac.ipynb",
      "provenance": [],
      "collapsed_sections": [],
      "authorship_tag": "ABX9TyONfsLch8aO/RlNX+wDN5J3",
      "include_colab_link": true
    },
    "kernelspec": {
      "name": "python3",
      "display_name": "Python 3"
    }
  },
  "cells": [
    {
      "cell_type": "markdown",
      "metadata": {
        "id": "view-in-github",
        "colab_type": "text"
      },
      "source": [
        "<a href=\"https://colab.research.google.com/github/lucius8959/BookPrac/blob/master/chap4_prac.ipynb\" target=\"_parent\"><img src=\"https://colab.research.google.com/assets/colab-badge.svg\" alt=\"Open In Colab\"/></a>"
      ]
    },
    {
      "cell_type": "code",
      "metadata": {
        "id": "QgLAiyVPmxCf",
        "colab_type": "code",
        "outputId": "7a7d33ba-2c69-4448-ae6c-1a8329848399",
        "colab": {
          "base_uri": "https://localhost:8080/",
          "height": 34
        }
      },
      "source": [
        "def GetArea(width, height):\n",
        "  area = width*height\n",
        "  return area\n",
        "retl = GetArea(6,9)\n",
        "print(retl)"
      ],
      "execution_count": 1,
      "outputs": [
        {
          "output_type": "stream",
          "text": [
            "54\n"
          ],
          "name": "stdout"
        }
      ]
    },
    {
      "cell_type": "code",
      "metadata": {
        "id": "YchyaN-1nxmb",
        "colab_type": "code",
        "outputId": "a30269d7-50a2-4e74-b53e-0e9fb9d82a43",
        "colab": {
          "base_uri": "https://localhost:8080/",
          "height": 51
        }
      },
      "source": [
        "def ctof(c):\n",
        "  f = c * 1.8 + 32\n",
        "  return f\n",
        "\n",
        "inputc = float(input(\"請輸入攝氏溫度：\"))\n",
        "print(\"華氏溫度為：%5.1f度\" % ctof(inputc))\n"
      ],
      "execution_count": 2,
      "outputs": [
        {
          "output_type": "stream",
          "text": [
            "請輸入攝氏溫度：20\n",
            "華氏溫度為： 68.0度\n"
          ],
          "name": "stdout"
        }
      ]
    },
    {
      "cell_type": "markdown",
      "metadata": {
        "id": "tyGpd8EktHmD",
        "colab_type": "text"
      },
      "source": [
        "不確定數範例"
      ]
    },
    {
      "cell_type": "code",
      "metadata": {
        "id": "q_bfBIlzszH8",
        "colab_type": "code",
        "outputId": "aed30224-fa85-45c9-ee97-9113d9e7d167",
        "colab": {
          "base_uri": "https://localhost:8080/",
          "height": 51
        }
      },
      "source": [
        "def calsum(*params):\n",
        "  total = 0\n",
        "  for param in params:\n",
        "    total += param\n",
        "  return total\n",
        "\n",
        "print(\"不確定數範例：\")\n",
        "print(\"4個參數：calsum(4,5,67,42) = %d\" % calsum(4,5,67,42))"
      ],
      "execution_count": 3,
      "outputs": [
        {
          "output_type": "stream",
          "text": [
            "不確定數範例：\n",
            "4個參數：calsum(4,5,67,42) = 118\n"
          ],
          "name": "stdout"
        }
      ]
    },
    {
      "cell_type": "code",
      "metadata": {
        "id": "Z5in1mQWvApT",
        "colab_type": "code",
        "outputId": "b7b0e2fc-59f5-451d-b1bd-4273e38e31f4",
        "colab": {
          "base_uri": "https://localhost:8080/",
          "height": 34
        }
      },
      "source": [
        "import os \n",
        "file = \"myFile.txt\"\n",
        "if os.path.exists(file):\n",
        "  os.remove(file)\n",
        "else:\n",
        "  print(file + \"檔案未建立\")"
      ],
      "execution_count": 4,
      "outputs": [
        {
          "output_type": "stream",
          "text": [
            "myFile.txt檔案未建立\n"
          ],
          "name": "stdout"
        }
      ]
    },
    {
      "cell_type": "code",
      "metadata": {
        "id": "hfCa_QZniBdU",
        "colab_type": "code",
        "colab": {
          "base_uri": "https://localhost:8080/",
          "height": 34
        },
        "outputId": "90e77d83-31e1-4c0f-f8e0-d227d4816526"
      },
      "source": [
        "import os\n",
        "os.mkdir(\"lucifer.myDir\")\n",
        "\n",
        "dir = \"lucifer.myDir\"\n",
        "if not os.path.exists(dir):\n",
        "  os.mkdir(dir)\n",
        "  print(dir + \"建立完成\")\n",
        "else:\n",
        "  print(dir + \"已建立\")"
      ],
      "execution_count": 5,
      "outputs": [
        {
          "output_type": "stream",
          "text": [
            "lucifer.myDir已建立\n"
          ],
          "name": "stdout"
        }
      ]
    },
    {
      "cell_type": "markdown",
      "metadata": {
        "id": "EU1Nsn7vjeWE",
        "colab_type": "text"
      },
      "source": [
        "abspath() 傳回檔案完整的路徑名稱\n",
        "\n",
        "basename() 傳回檔案路徑名稱最後的檔案或路徑名稱。如果測試的是案會傳回檔名，測試的是路徑會傳回路徑\n",
        "\n",
        "dirname() 傳回指定檔案完整的門錄路徑，dirname(__file__)則可以取得目前的門錄路徑\n",
        "\n",
        "exists() 檢查指定的檔案或路徑是否存在\n",
        "\n",
        "getsize屬性 取得定檔案的大小Bytes\n",
        "\n",
        "isabs() 檢查指定路是否為完整路徑名稱\n",
        "\n",
        "isfile() 檢查指定路徑是否為檔案\n",
        "\n",
        "isdir() 檢查指定路是否為目錄\n",
        "\n",
        "split() 分割檔案路名稱為目錄路徑和檔案\n",
        "\n",
        "splitdrive() 分割檔案路徑名稱為磁碟機和檔案路徑名稱\n",
        "\n",
        "join() 將路徑和檔案名稱結合為完整路徑"
      ]
    },
    {
      "cell_type": "code",
      "metadata": {
        "id": "tEktvRjUiyar",
        "colab_type": "code",
        "colab": {
          "base_uri": "https://localhost:8080/",
          "height": 34
        },
        "outputId": "bcd7c929-fd3b-4e8e-8dac-5c64d8c96f65"
      },
      "source": [
        "import os\n",
        "os.mkdir(\"lucifer.myDir2\")\n",
        "\n",
        "dir = \"lucifer.myDir2\"\n",
        "if os.path.exists(dir):\n",
        "  os.rmdir(dir)\n",
        "  print(dir + \"刪除完成\")\n",
        "else:\n",
        "  print(dir + \"目錄未建立\")"
      ],
      "execution_count": 6,
      "outputs": [
        {
          "output_type": "stream",
          "text": [
            "lucifer.myDir2刪除完成\n"
          ],
          "name": "stdout"
        }
      ]
    },
    {
      "cell_type": "code",
      "metadata": {
        "id": "JkQdMzq4rJjS",
        "colab_type": "code",
        "colab": {
          "base_uri": "https://localhost:8080/",
          "height": 88
        },
        "outputId": "b7461512-74ae-41e4-d16a-57cf88693274"
      },
      "source": [
        "from google.colab import drive\n",
        "drive.mount('/content/gdrive')\n",
        "%cd /content/gdrive/My Drive/\n",
        "%ls\n",
        "\n"
      ],
      "execution_count": 11,
      "outputs": [
        {
          "output_type": "stream",
          "text": [
            "Drive already mounted at /content/gdrive; to attempt to forcibly remount, call drive.mount(\"/content/gdrive\", force_remount=True).\n",
            "/content/gdrive/My Drive\n",
            "Untitled\n"
          ],
          "name": "stdout"
        }
      ]
    },
    {
      "cell_type": "code",
      "metadata": {
        "id": "5NczaJNTkRSY",
        "colab_type": "code",
        "colab": {
          "base_uri": "https://localhost:8080/",
          "height": 51
        },
        "outputId": "abc85121-a534-4b6d-f02a-2e18afaca23f"
      },
      "source": [
        "import os\n",
        "\n",
        "cur_path = os.getcwd()\n",
        "print(\"現在目錄路徑:\" + cur_path)\n",
        "\n",
        "dir = os.path.abspath(\"TestProj\")\n",
        "if not os.path.exists(dir):\n",
        "  os.mkdir(dir)\n",
        "  print(dir + \"建立完成\")\n",
        "else:\n",
        "  print(dir + \"已經建立\")\n",
        "\n"
      ],
      "execution_count": 16,
      "outputs": [
        {
          "output_type": "stream",
          "text": [
            "現在目錄路徑:/content/gdrive/My Drive\n",
            "/content/gdrive/My Drive/TestProj已經建立\n"
          ],
          "name": "stdout"
        }
      ]
    }
  ]
}